{
 "cells": [
  {
   "cell_type": "code",
   "execution_count": 1,
   "metadata": {},
   "outputs": [],
   "source": [
    "import pandas as pd\n",
    "import numpy as np\n",
    "import matplotlib.pyplot as plt\n",
    "import seaborn as sns\n",
    "import warnings\n",
    "from sklearn.model_selection import cross_val_score\n",
    "from sklearn.linear_model import SGDClassifier\n",
    "from tqdm import tqdm\n",
    "from sklearn.preprocessing import StandardScaler"
   ]
  },
  {
   "cell_type": "code",
   "execution_count": 2,
   "metadata": {},
   "outputs": [],
   "source": [
    "original_df = pd.read_csv('CreditDataset.csv')\n",
    "original_df.head()\n",
    "target = 'Home'\n",
    "missing_values = [99999999, 'NaN']"
   ]
  },
  {
   "cell_type": "code",
   "execution_count": 3,
   "metadata": {},
   "outputs": [],
   "source": [
    "def extract_target_variable(df, target):\n",
    "    return df[target]\n",
    "def without_target_variable(df, target):\n",
    "    return df.drop(target, axis=1)"
   ]
  },
  {
   "cell_type": "code",
   "execution_count": 4,
   "metadata": {},
   "outputs": [],
   "source": [
    "target_variable = extract_target_variable(original_df, target)\n",
    "dataSet = without_target_variable(original_df, target)"
   ]
  },
  {
   "cell_type": "code",
   "execution_count": 5,
   "metadata": {},
   "outputs": [
    {
     "name": "stdout",
     "output_type": "stream",
     "text": [
      "RangeIndex(start=0, stop=4040, step=1)\n"
     ]
    }
   ],
   "source": [
    "print(dataSet.index)"
   ]
  },
  {
   "cell_type": "code",
   "execution_count": 6,
   "metadata": {},
   "outputs": [],
   "source": [
    "def remove_objects_with_missing_values(df, missing_values):\n",
    "    return df[(df != missing_values).all(axis=1)].copy()"
   ]
  },
  {
   "cell_type": "code",
   "execution_count": 7,
   "metadata": {},
   "outputs": [
    {
     "name": "stdout",
     "output_type": "stream",
     "text": [
      "RangeIndex(start=0, stop=4040, step=1)\n"
     ]
    }
   ],
   "source": [
    "print(dataSet.index)"
   ]
  },
  {
   "cell_type": "code",
   "execution_count": 8,
   "metadata": {},
   "outputs": [
    {
     "name": "stdout",
     "output_type": "stream",
     "text": [
      "(4040, 12)\n"
     ]
    }
   ],
   "source": [
    "clean_df = remove_objects_with_missing_values(dataSet, 99999999)\n",
    "print(clean_df.shape)"
   ]
  },
  {
   "cell_type": "code",
   "execution_count": 9,
   "metadata": {},
   "outputs": [],
   "source": [
    "import sklearn\n",
    "\n",
    "from sklearn.model_selection import GridSearchCV\n",
    "from sklearn.model_selection import KFold\n",
    "from sklearn.model_selection import learning_curve\n",
    "\n",
    "from sklearn.neighbors import KNeighborsClassifier\n",
    "from sklearn.tree import DecisionTreeClassifier\n",
    "from sklearn.linear_model import SGDClassifier\n",
    "from sklearn.ensemble import RandomForestClassifier\n",
    "\n",
    "from sklearn.preprocessing import scale\n",
    "from sklearn.preprocessing import StandardScaler\n",
    "\n",
    "from collections import defaultdict\n",
    "from tqdm import trange"
   ]
  },
  {
   "cell_type": "code",
   "execution_count": 10,
   "metadata": {},
   "outputs": [],
   "source": [
    "from sklearn.metrics import accuracy_score\n",
    "from sklearn.metrics import make_scorer\n",
    "\n",
    "def compute_grid_search_results(estimator, param_grid, X, Y, cv=KFold(5)):\n",
    "    grid_search = GridSearchCV(\n",
    "        estimator=estimator, \n",
    "        param_grid=param_grid,\n",
    "        scoring=make_scorer(accuracy_score),\n",
    "        cv=cv\n",
    "    )\n",
    "    grid_search.fit(X, Y) \n",
    "    return pd.DataFrame(grid_search.cv_results_)\n",
    "\n",
    "\n",
    "def insert_min_max_score_per_fold(cv_df):\n",
    "#     split_score_names = [\"split{}_test_score\".format(i) for i in range(5)]\n",
    "#     cv_df['min_test_score'] = cv_df[split_score_names].min(axis=1)\n",
    "#     cv_df['max_test_score'] = cv_df[split_score_names].max(axis=1)\n",
    "    mean_test_score=cv_df['mean_test_score']\n",
    "    test_score_std =cv_df['std_test_score']\n",
    "    cv_df['min_test_score'] = mean_test_score-test_score_std\n",
    "    cv_df['max_test_score'] = mean_test_score+test_score_std\n",
    "    return cv_df\n",
    "\n",
    "\n",
    "def print_best_score(cv_df, estimator_name, param_name):\n",
    "    param_column_name = \"param_{}\".format(param_name)\n",
    "    best_row_index = cv_df['mean_test_score'].idxmax()\n",
    "    best_row = cv_df.loc[best_row_index,:]\n",
    "    best_score_value = best_row['mean_test_score']\n",
    "    best_param = best_row[param_column_name]\n",
    "    format_args = (estimator_name, best_score_value, param_name, best_param)\n",
    "    print(\"Лучшая оценка для {}: {:.2f} (когда {} = '{}')\".format(*format_args))\n",
    "    \n",
    "    \n",
    "def plot_numeric_grid_search_results(cv_df, estimator_name, param_name, ax=None):\n",
    "    param_column_name = \"param_{}\".format(param_name)\n",
    "    param_values = cv_df[param_column_name].values.astype(np.int)\n",
    "    mean_test_score = cv_df['mean_test_score'].values\n",
    "    min_test_score = cv_df['min_test_score'].values\n",
    "    max_test_score = cv_df['max_test_score'].values\n",
    "    if ax is None:\n",
    "        fig, ax = plt.subplots(figsize = (12,8))\n",
    "    ax.grid()\n",
    "    fontsize=16\n",
    "    ax.plot(param_values, mean_test_score, 'o-', color='b')\n",
    "    ax.fill_between(param_values, min_test_score, max_test_score, alpha=0.1, color=\"g\")\n",
    "    ax.set_title(\"График оценки на кросс-валидации для {} от {}\".format(estimator_name, param_name), fontsize=fontsize)\n",
    "    ax.set_ylabel(\"Оценка на кросс-валидации (ROC_AUC)\", fontsize=fontsize)\n",
    "    ax.set_xlabel(\"Значение гиперпараметра {}\".format(param_name), fontsize=fontsize)\n",
    "    return ax\n",
    "\n",
    "\n",
    "def plot_discrete_grid_search_results(cv_df, estimator_name, param_name, ax=None):\n",
    "    mean_test_score = cv_df['mean_test_score'].values\n",
    "    param_column_name = \"param_{}\".format(param_name)\n",
    "    split_score_names = [\"split{}_test_score\".format(i) for i in range(5)]\n",
    "    split_score_names.append(param_column_name)\n",
    "    cv_df = cv_df[split_score_names]\n",
    "    cv_df = cv_df.set_index(param_column_name)\n",
    "    cv_df = cv_df.transpose()\n",
    "    cv_df = cv_df.reset_index(drop=True)\n",
    "    if ax is None:\n",
    "        fig, ax = plt.subplots(figsize = (12,8))\n",
    "    ax.grid()\n",
    "    fontsize=16\n",
    "    ax.set_title(\"График оценки на кросс-валидации для {} от {}\".format(estimator_name, param_name), fontsize=fontsize)\n",
    "    ax.set_ylabel(\"Оценка на кросс-валидации (ROC_AUC)\", fontsize=fontsize)\n",
    "    ax.set_xlabel(\"Значение гиперпараметра {}\".format(param_name), fontsize=fontsize)\n",
    "    cv_df.boxplot(ax=ax)\n",
    "    return ax\n",
    "    \n",
    "    \n",
    "def launch_grid_search(estimator, estimator_name, param_name, param_values, X, Y, numeric, ax=None):\n",
    "    params = {param_name: param_values}\n",
    "    cv_df = compute_grid_search_results(estimator, params, X, Y)\n",
    "    print_best_score(cv_df, estimator_name, param_name)\n",
    "    if numeric:\n",
    "        cv_df = insert_min_max_score_per_fold(cv_df)\n",
    "        ax = plot_numeric_grid_search_results(cv_df, estimator_name, param_name, ax)\n",
    "    else:\n",
    "        ax = plot_discrete_grid_search_results(cv_df, estimator_name, param_name, ax)\n",
    "    return cv_df, ax"
   ]
  },
  {
   "cell_type": "code",
   "execution_count": 11,
   "metadata": {},
   "outputs": [
    {
     "data": {
      "text/plain": [
       "array([1, 2, 5, 3, 6, 4], dtype=int64)"
      ]
     },
     "execution_count": 11,
     "metadata": {},
     "output_type": "execute_result"
    }
   ],
   "source": [
    "target_variable.unique()"
   ]
  },
  {
   "cell_type": "code",
   "execution_count": 12,
   "metadata": {},
   "outputs": [
    {
     "name": "stdout",
     "output_type": "stream",
     "text": [
      "Лучшая оценка для KNN: 0.67 (когда n_neighbors = '33')\n"
     ]
    },
    {
     "data": {
      "image/png": "[encoded data removed]",
      "text/plain": [
       "<Figure size 864x576 with 1 Axes>"
      ]
     },
     "metadata": {
      "needs_background": "light"
     },
     "output_type": "display_data"
    }
   ],
   "source": [
    "with warnings.catch_warnings(record=True):\n",
    "    knn_first_grid_df, ax=launch_grid_search(\n",
    "        estimator=KNeighborsClassifier(),\n",
    "        estimator_name=\"KNN\",\n",
    "        param_name='n_neighbors',\n",
    "        param_values=[x for x in range(1, 50, 4)],\n",
    "        X = dataSet,\n",
    "        Y = target_variable.values,\n",
    "        numeric=True\n",
    "    );"
   ]
  },
  {
   "cell_type": "code",
   "execution_count": 128,
   "metadata": {},
   "outputs": [
    {
     "name": "stdout",
     "output_type": "stream",
     "text": [
      "Лучшая оценка для DecisionTree: 0.77 (когда max_depth = '7')\n"
     ]
    },
    {
     "data": {
      "image/png": "[encoded data removed]",
      "text/plain": [
       "<Figure size 864x576 with 1 Axes>"
      ]
     },
     "metadata": {
      "needs_background": "light"
     },
     "output_type": "display_data"
    }
   ],
   "source": [
    "with warnings.catch_warnings(record=True):\n",
    "    tree_first_grid_df, ax = launch_grid_search(\n",
    "        estimator=DecisionTreeClassifier(),\n",
    "        estimator_name=\"DecisionTree\",\n",
    "        param_name='max_depth',\n",
    "        param_values=[x for x in range(1, 20)],\n",
    "        X = dataSet,\n",
    "        Y = target_variable.values,\n",
    "        numeric=True\n",
    "    );"
   ]
  },
  {
   "cell_type": "code",
   "execution_count": 106,
   "metadata": {},
   "outputs": [],
   "source": [
    "loss_values=[\n",
    "    'hinge',\n",
    "    'log',\n",
    "    'modified_huber',\n",
    "    'squared_hinge',\n",
    "    'perceptron'\n",
    "]"
   ]
  },
  {
   "cell_type": "code",
   "execution_count": 129,
   "metadata": {},
   "outputs": [
    {
     "name": "stdout",
     "output_type": "stream",
     "text": [
      "Лучшая оценка для SGD: 0.59 (когда loss = 'perceptron')\n"
     ]
    },
    {
     "data": {
      "image/png": "[encoded data removed]",
      "text/plain": [
       "<Figure size 864x576 with 1 Axes>"
      ]
     },
     "metadata": {
      "needs_background": "light"
     },
     "output_type": "display_data"
    }
   ],
   "source": [
    "with warnings.catch_warnings(record=True):\n",
    "    sgd_first_grid_df, ax = launch_grid_search(\n",
    "        estimator=SGDClassifier(),\n",
    "        estimator_name=\"SGD\",\n",
    "        param_name='loss',\n",
    "        param_values=loss_values,\n",
    "        X = dataSet,\n",
    "        Y = target_variable.values,\n",
    "        numeric=False\n",
    "    );"
   ]
  },
  {
   "cell_type": "code",
   "execution_count": 108,
   "metadata": {},
   "outputs": [
    {
     "name": "stdout",
     "output_type": "stream",
     "text": [
      "Среднее значение доверительного интервала для KNN равно 0.0167\n",
      "Среднее значение доверительного интервала для DecisionTree равно 0.0154\n",
      "Среднее значение доверительного интервала для SGD равно 0.1710\n"
     ]
    }
   ],
   "source": [
    "def print_highest_std_after_first_grid():\n",
    "    first_grid_results = {\n",
    "        \"KNN\":knn_first_grid_df,\n",
    "        \"DecisionTree\":tree_first_grid_df,\n",
    "        \"SGD\":sgd_first_grid_df\n",
    "    }\n",
    "    for name, result_df in first_grid_results.items():\n",
    "        mean_std = result_df['std_test_score'].mean()\n",
    "        print(\"Среднее значение доверительного интервала для {} равно {:.4f}\".format(name, mean_std))\n",
    "    \n",
    "print_highest_std_after_first_grid()"
   ]
  },
  {
   "cell_type": "code",
   "execution_count": null,
   "metadata": {},
   "outputs": [],
   "source": [
    "Нормирование вещественных парметров"
   ]
  },
  {
   "cell_type": "code",
   "execution_count": 13,
   "metadata": {},
   "outputs": [
    {
     "data": {
      "text/html": [
       "<div>\n",
       "<style scoped>\n",
       "    .dataframe tbody tr th:only-of-type {\n",
       "        vertical-align: middle;\n",
       "    }\n",
       "\n",
       "    .dataframe tbody tr th {\n",
       "        vertical-align: top;\n",
       "    }\n",
       "\n",
       "    .dataframe thead th {\n",
       "        text-align: right;\n",
       "    }\n",
       "</style>\n",
       "<table border=\"1\" class=\"dataframe\">\n",
       "  <thead>\n",
       "    <tr style=\"text-align: right;\">\n",
       "      <th></th>\n",
       "      <th>Seniority</th>\n",
       "      <th>Home</th>\n",
       "      <th>Time</th>\n",
       "      <th>Age</th>\n",
       "      <th>Marital</th>\n",
       "      <th>Records</th>\n",
       "      <th>Job</th>\n",
       "      <th>Expenses</th>\n",
       "      <th>Income</th>\n",
       "      <th>Assets</th>\n",
       "      <th>Debt</th>\n",
       "      <th>Amount</th>\n",
       "      <th>Price</th>\n",
       "    </tr>\n",
       "  </thead>\n",
       "  <tbody>\n",
       "    <tr>\n",
       "      <th>0</th>\n",
       "      <td>9</td>\n",
       "      <td>1</td>\n",
       "      <td>60</td>\n",
       "      <td>30</td>\n",
       "      <td>2</td>\n",
       "      <td>1</td>\n",
       "      <td>3</td>\n",
       "      <td>73</td>\n",
       "      <td>129</td>\n",
       "      <td>0</td>\n",
       "      <td>0</td>\n",
       "      <td>800</td>\n",
       "      <td>846</td>\n",
       "    </tr>\n",
       "    <tr>\n",
       "      <th>1</th>\n",
       "      <td>17</td>\n",
       "      <td>1</td>\n",
       "      <td>60</td>\n",
       "      <td>58</td>\n",
       "      <td>3</td>\n",
       "      <td>1</td>\n",
       "      <td>1</td>\n",
       "      <td>48</td>\n",
       "      <td>131</td>\n",
       "      <td>0</td>\n",
       "      <td>0</td>\n",
       "      <td>1000</td>\n",
       "      <td>1658</td>\n",
       "    </tr>\n",
       "    <tr>\n",
       "      <th>2</th>\n",
       "      <td>10</td>\n",
       "      <td>2</td>\n",
       "      <td>36</td>\n",
       "      <td>46</td>\n",
       "      <td>2</td>\n",
       "      <td>2</td>\n",
       "      <td>3</td>\n",
       "      <td>90</td>\n",
       "      <td>200</td>\n",
       "      <td>3000</td>\n",
       "      <td>0</td>\n",
       "      <td>2000</td>\n",
       "      <td>2985</td>\n",
       "    </tr>\n",
       "    <tr>\n",
       "      <th>3</th>\n",
       "      <td>0</td>\n",
       "      <td>1</td>\n",
       "      <td>60</td>\n",
       "      <td>24</td>\n",
       "      <td>1</td>\n",
       "      <td>1</td>\n",
       "      <td>1</td>\n",
       "      <td>63</td>\n",
       "      <td>182</td>\n",
       "      <td>2500</td>\n",
       "      <td>0</td>\n",
       "      <td>900</td>\n",
       "      <td>1325</td>\n",
       "    </tr>\n",
       "    <tr>\n",
       "      <th>4</th>\n",
       "      <td>0</td>\n",
       "      <td>1</td>\n",
       "      <td>36</td>\n",
       "      <td>26</td>\n",
       "      <td>1</td>\n",
       "      <td>1</td>\n",
       "      <td>1</td>\n",
       "      <td>46</td>\n",
       "      <td>107</td>\n",
       "      <td>0</td>\n",
       "      <td>0</td>\n",
       "      <td>310</td>\n",
       "      <td>910</td>\n",
       "    </tr>\n",
       "  </tbody>\n",
       "</table>\n",
       "</div>"
      ],
      "text/plain": [
       "   Seniority  Home  Time  Age  Marital  Records  Job  Expenses  Income  \\\n",
       "0          9     1    60   30        2        1    3        73     129   \n",
       "1         17     1    60   58        3        1    1        48     131   \n",
       "2         10     2    36   46        2        2    3        90     200   \n",
       "3          0     1    60   24        1        1    1        63     182   \n",
       "4          0     1    36   26        1        1    1        46     107   \n",
       "\n",
       "   Assets  Debt  Amount  Price  \n",
       "0       0     0     800    846  \n",
       "1       0     0    1000   1658  \n",
       "2    3000     0    2000   2985  \n",
       "3    2500     0     900   1325  \n",
       "4       0     0     310    910  "
      ]
     },
     "execution_count": 13,
     "metadata": {},
     "output_type": "execute_result"
    }
   ],
   "source": [
    "original_df.head()"
   ]
  },
  {
   "cell_type": "code",
   "execution_count": 14,
   "metadata": {},
   "outputs": [],
   "source": [
    "def extract_numeric_features(df):\n",
    "    numeric_features_names = ['Seniority', 'Time', 'Age', 'Records', 'Expenses', 'Income', 'Assets', 'Debt', 'Amount', 'Price']\n",
    "    return df[numeric_features_names]"
   ]
  },
  {
   "cell_type": "code",
   "execution_count": 15,
   "metadata": {},
   "outputs": [
    {
     "data": {
      "text/html": [
       "<div>\n",
       "<style scoped>\n",
       "    .dataframe tbody tr th:only-of-type {\n",
       "        vertical-align: middle;\n",
       "    }\n",
       "\n",
       "    .dataframe tbody tr th {\n",
       "        vertical-align: top;\n",
       "    }\n",
       "\n",
       "    .dataframe thead th {\n",
       "        text-align: right;\n",
       "    }\n",
       "</style>\n",
       "<table border=\"1\" class=\"dataframe\">\n",
       "  <thead>\n",
       "    <tr style=\"text-align: right;\">\n",
       "      <th></th>\n",
       "      <th>Seniority</th>\n",
       "      <th>Time</th>\n",
       "      <th>Age</th>\n",
       "      <th>Records</th>\n",
       "      <th>Expenses</th>\n",
       "      <th>Income</th>\n",
       "      <th>Assets</th>\n",
       "      <th>Debt</th>\n",
       "      <th>Amount</th>\n",
       "      <th>Price</th>\n",
       "    </tr>\n",
       "  </thead>\n",
       "  <tbody>\n",
       "    <tr>\n",
       "      <th>0</th>\n",
       "      <td>9</td>\n",
       "      <td>60</td>\n",
       "      <td>30</td>\n",
       "      <td>1</td>\n",
       "      <td>73</td>\n",
       "      <td>129</td>\n",
       "      <td>0</td>\n",
       "      <td>0</td>\n",
       "      <td>800</td>\n",
       "      <td>846</td>\n",
       "    </tr>\n",
       "    <tr>\n",
       "      <th>1</th>\n",
       "      <td>17</td>\n",
       "      <td>60</td>\n",
       "      <td>58</td>\n",
       "      <td>1</td>\n",
       "      <td>48</td>\n",
       "      <td>131</td>\n",
       "      <td>0</td>\n",
       "      <td>0</td>\n",
       "      <td>1000</td>\n",
       "      <td>1658</td>\n",
       "    </tr>\n",
       "    <tr>\n",
       "      <th>2</th>\n",
       "      <td>10</td>\n",
       "      <td>36</td>\n",
       "      <td>46</td>\n",
       "      <td>2</td>\n",
       "      <td>90</td>\n",
       "      <td>200</td>\n",
       "      <td>3000</td>\n",
       "      <td>0</td>\n",
       "      <td>2000</td>\n",
       "      <td>2985</td>\n",
       "    </tr>\n",
       "    <tr>\n",
       "      <th>3</th>\n",
       "      <td>0</td>\n",
       "      <td>60</td>\n",
       "      <td>24</td>\n",
       "      <td>1</td>\n",
       "      <td>63</td>\n",
       "      <td>182</td>\n",
       "      <td>2500</td>\n",
       "      <td>0</td>\n",
       "      <td>900</td>\n",
       "      <td>1325</td>\n",
       "    </tr>\n",
       "    <tr>\n",
       "      <th>4</th>\n",
       "      <td>0</td>\n",
       "      <td>36</td>\n",
       "      <td>26</td>\n",
       "      <td>1</td>\n",
       "      <td>46</td>\n",
       "      <td>107</td>\n",
       "      <td>0</td>\n",
       "      <td>0</td>\n",
       "      <td>310</td>\n",
       "      <td>910</td>\n",
       "    </tr>\n",
       "  </tbody>\n",
       "</table>\n",
       "</div>"
      ],
      "text/plain": [
       "   Seniority  Time  Age  Records  Expenses  Income  Assets  Debt  Amount  \\\n",
       "0          9    60   30        1        73     129       0     0     800   \n",
       "1         17    60   58        1        48     131       0     0    1000   \n",
       "2         10    36   46        2        90     200    3000     0    2000   \n",
       "3          0    60   24        1        63     182    2500     0     900   \n",
       "4          0    36   26        1        46     107       0     0     310   \n",
       "\n",
       "   Price  \n",
       "0    846  \n",
       "1   1658  \n",
       "2   2985  \n",
       "3   1325  \n",
       "4    910  "
      ]
     },
     "execution_count": 15,
     "metadata": {},
     "output_type": "execute_result"
    }
   ],
   "source": [
    "numeric_df = extract_numeric_features(original_df)\n",
    "numeric_df.head()"
   ]
  },
  {
   "cell_type": "code",
   "execution_count": 16,
   "metadata": {},
   "outputs": [
    {
     "data": {
      "text/html": [
       "<div>\n",
       "<style scoped>\n",
       "    .dataframe tbody tr th:only-of-type {\n",
       "        vertical-align: middle;\n",
       "    }\n",
       "\n",
       "    .dataframe tbody tr th {\n",
       "        vertical-align: top;\n",
       "    }\n",
       "\n",
       "    .dataframe thead th {\n",
       "        text-align: right;\n",
       "    }\n",
       "</style>\n",
       "<table border=\"1\" class=\"dataframe\">\n",
       "  <thead>\n",
       "    <tr style=\"text-align: right;\">\n",
       "      <th></th>\n",
       "      <th>Seniority</th>\n",
       "      <th>Time</th>\n",
       "      <th>Age</th>\n",
       "      <th>Records</th>\n",
       "      <th>Expenses</th>\n",
       "      <th>Income</th>\n",
       "      <th>Assets</th>\n",
       "      <th>Debt</th>\n",
       "      <th>Amount</th>\n",
       "      <th>Price</th>\n",
       "    </tr>\n",
       "  </thead>\n",
       "  <tbody>\n",
       "    <tr>\n",
       "      <th>0</th>\n",
       "      <td>0.104111</td>\n",
       "      <td>0.911650</td>\n",
       "      <td>-0.630474</td>\n",
       "      <td>-0.443089</td>\n",
       "      <td>0.887712</td>\n",
       "      <td>-0.157684</td>\n",
       "      <td>-0.541940</td>\n",
       "      <td>-0.313101</td>\n",
       "      <td>-0.501621</td>\n",
       "      <td>-0.997403</td>\n",
       "    </tr>\n",
       "    <tr>\n",
       "      <th>1</th>\n",
       "      <td>1.085698</td>\n",
       "      <td>0.911650</td>\n",
       "      <td>1.910470</td>\n",
       "      <td>-0.443089</td>\n",
       "      <td>-0.404650</td>\n",
       "      <td>-0.132884</td>\n",
       "      <td>-0.541940</td>\n",
       "      <td>-0.313101</td>\n",
       "      <td>-0.065864</td>\n",
       "      <td>0.344176</td>\n",
       "    </tr>\n",
       "    <tr>\n",
       "      <th>2</th>\n",
       "      <td>0.226810</td>\n",
       "      <td>-0.738839</td>\n",
       "      <td>0.821494</td>\n",
       "      <td>2.256882</td>\n",
       "      <td>1.766519</td>\n",
       "      <td>0.722725</td>\n",
       "      <td>-0.220675</td>\n",
       "      <td>-0.313101</td>\n",
       "      <td>2.112924</td>\n",
       "      <td>2.536635</td>\n",
       "    </tr>\n",
       "    <tr>\n",
       "      <th>3</th>\n",
       "      <td>-1.000174</td>\n",
       "      <td>0.911650</td>\n",
       "      <td>-1.174962</td>\n",
       "      <td>-0.443089</td>\n",
       "      <td>0.370767</td>\n",
       "      <td>0.499523</td>\n",
       "      <td>-0.274219</td>\n",
       "      <td>-0.313101</td>\n",
       "      <td>-0.283742</td>\n",
       "      <td>-0.206003</td>\n",
       "    </tr>\n",
       "    <tr>\n",
       "      <th>4</th>\n",
       "      <td>-1.000174</td>\n",
       "      <td>-0.738839</td>\n",
       "      <td>-0.993466</td>\n",
       "      <td>-0.443089</td>\n",
       "      <td>-0.508039</td>\n",
       "      <td>-0.430487</td>\n",
       "      <td>-0.541940</td>\n",
       "      <td>-0.313101</td>\n",
       "      <td>-1.569227</td>\n",
       "      <td>-0.891663</td>\n",
       "    </tr>\n",
       "  </tbody>\n",
       "</table>\n",
       "</div>"
      ],
      "text/plain": [
       "   Seniority      Time       Age   Records  Expenses    Income    Assets  \\\n",
       "0   0.104111  0.911650 -0.630474 -0.443089  0.887712 -0.157684 -0.541940   \n",
       "1   1.085698  0.911650  1.910470 -0.443089 -0.404650 -0.132884 -0.541940   \n",
       "2   0.226810 -0.738839  0.821494  2.256882  1.766519  0.722725 -0.220675   \n",
       "3  -1.000174  0.911650 -1.174962 -0.443089  0.370767  0.499523 -0.274219   \n",
       "4  -1.000174 -0.738839 -0.993466 -0.443089 -0.508039 -0.430487 -0.541940   \n",
       "\n",
       "       Debt    Amount     Price  \n",
       "0 -0.313101 -0.501621 -0.997403  \n",
       "1 -0.313101 -0.065864  0.344176  \n",
       "2 -0.313101  2.112924  2.536635  \n",
       "3 -0.313101 -0.283742 -0.206003  \n",
       "4 -0.313101 -1.569227 -0.891663  "
      ]
     },
     "execution_count": 16,
     "metadata": {},
     "output_type": "execute_result"
    }
   ],
   "source": [
    "with warnings.catch_warnings(record=True):\n",
    "    scaler = StandardScaler(copy=True, with_mean=True, with_std=True)\n",
    "    scaled_numeric_df = pd.DataFrame(scaler.fit_transform(numeric_df))\n",
    "    scaled_numeric_df.columns = numeric_df.columns\n",
    "scaled_numeric_df.head()"
   ]
  },
  {
   "cell_type": "code",
   "execution_count": 17,
   "metadata": {},
   "outputs": [
    {
     "name": "stdout",
     "output_type": "stream",
     "text": [
      "Лучшая оценка для KNN: 0.64 (когда n_neighbors = '17')\n"
     ]
    },
    {
     "data": {
      "image/png": "[encoded data removed]",
      "text/plain": [
       "<Figure size 864x576 with 1 Axes>"
      ]
     },
     "metadata": {
      "needs_background": "light"
     },
     "output_type": "display_data"
    }
   ],
   "source": [
    "with warnings.catch_warnings(record=True):\n",
    "    launch_grid_search(\n",
    "        estimator=KNeighborsClassifier(),\n",
    "        estimator_name=\"KNN\",\n",
    "        param_name='n_neighbors',\n",
    "        param_values=[x for x in range(1, 50, 4)],\n",
    "        X = scaled_numeric_df.values,\n",
    "        Y = target_variable.values,\n",
    "        numeric=True\n",
    "    );"
   ]
  },
  {
   "cell_type": "code",
   "execution_count": 131,
   "metadata": {},
   "outputs": [
    {
     "name": "stdout",
     "output_type": "stream",
     "text": [
      "Лучшая оценка для SGD: 0.62 (когда loss = 'log')\n"
     ]
    },
    {
     "data": {
      "image/png": "[encoded data removed]",
      "text/plain": [
       "<Figure size 864x576 with 1 Axes>"
      ]
     },
     "metadata": {
      "needs_background": "light"
     },
     "output_type": "display_data"
    }
   ],
   "source": [
    "with warnings.catch_warnings(record=True):\n",
    "    launch_grid_search(\n",
    "        estimator=SGDClassifier(),\n",
    "        estimator_name=\"SGD\",\n",
    "        param_name='loss',\n",
    "        param_values=loss_values,\n",
    "        X = scaled_numeric_df.values,\n",
    "          Y = target_variable.values,\n",
    "        numeric=False\n",
    "    );"
   ]
  },
  {
   "cell_type": "code",
   "execution_count": 132,
   "metadata": {},
   "outputs": [
    {
     "name": "stdout",
     "output_type": "stream",
     "text": [
      "Лучшая оценка для DecisionTree: 0.78 (когда max_depth = '7')\n"
     ]
    },
    {
     "data": {
      "image/png": "[encoded data removed]",
      "text/plain": [
       "<Figure size 864x576 with 1 Axes>"
      ]
     },
     "metadata": {
      "needs_background": "light"
     },
     "output_type": "display_data"
    }
   ],
   "source": [
    "with warnings.catch_warnings(record=True):\n",
    "    launch_grid_search(\n",
    "        estimator=DecisionTreeClassifier(),\n",
    "        estimator_name=\"DecisionTree\",\n",
    "        param_name='max_depth',\n",
    "        param_values=[x for x in range(1, 20)],\n",
    "        X = scaled_numeric_df.values,\n",
    "        Y = target_variable.values,\n",
    "        numeric=True\n",
    "    );"
   ]
  },
  {
   "cell_type": "markdown",
   "metadata": {},
   "source": [
    "# Теперь сделайте перебор нескольких гиперпараметров по сетке и найдите оптимальные комбинации (лучшее среднее значение качества) для каждого алгоритма в данном случае:\n",
    "\n",
    "KNN — число соседей (n_neighbors) и метрика (metric)\n",
    "DecisonTree — глубина дерева (max_Qdepth) и критерий разбиения (criterion)\n",
    "RandomForest — критерий разбиения в деревьях (criterion) и максимальное число рассматриваемых признаков (max_features); используйте найденное ранее каличество деревьев\n",
    "SGDClassifier — оптимизируемая функция (loss) и penalty\n",
    "Обратите внимание, что эта операция может быть ресурсо- и трудоемкой. Как оптимизировать подбор параметров по сетке сказано в разделе \"Подбор гиперпараметров модели\".\n",
    "\n",
    "Какой из алгоритмов имеет наилучшее качество?"
   ]
  },
  {
   "cell_type": "code",
   "execution_count": 18,
   "metadata": {},
   "outputs": [],
   "source": [
    "def compute_param_string(param_name, row):\n",
    "    column_name = \"param_{}\".format(param_name)\n",
    "    param_value = row[column_name]\n",
    "    return \"'{}' == {}\".format(param_name, param_value)\n",
    "\n",
    "\n",
    "def launch_multidim_grid_search(method_name, estimator, param_grid, X, Y, cv=KFold(5)):\n",
    "    with warnings.catch_warnings(record=True):\n",
    "        cv_df = compute_grid_search_results(\n",
    "            estimator=estimator,\n",
    "            param_grid=param_grid,\n",
    "            X=X,\n",
    "            Y=Y,\n",
    "            cv=cv\n",
    "        )\n",
    "    best_row = cv_df.loc[cv_df['mean_test_score'].idxmax(),:]\n",
    "    best_score = best_row['mean_test_score']\n",
    "    param_list = [i for i in param_grid.keys()]\n",
    "    param_strings = [compute_param_string(i, best_row) for i in param_list]\n",
    "    all_param_string = \", \".join(param_strings)\n",
    "    print(\"Best cv score for {} is {:.2f} (when {})\".format(method_name, best_score, all_param_string))"
   ]
  },
  {
   "cell_type": "code",
   "execution_count": 19,
   "metadata": {},
   "outputs": [
    {
     "name": "stdout",
     "output_type": "stream",
     "text": [
      "Best cv score for KNN is 0.70 (when 'n_neighbors' == 25, 'metric' == manhattan)\n"
     ]
    }
   ],
   "source": [
    "def launch_grid_search_knn():\n",
    "    n_neighbors_values = [x for x in range(20, 50, 5)]\n",
    "    # metric_values = ['euclidean', 'manhattan', 'chebyshev', 'minkowski', 'wminkowski', 'seuclidean', 'mahalanobis']\n",
    "    metric_values = ['euclidean', 'manhattan']\n",
    "    with warnings.catch_warnings(record=True):\n",
    "        launch_multidim_grid_search(\n",
    "            method_name='KNN',\n",
    "            estimator=KNeighborsClassifier(),\n",
    "            param_grid={\n",
    "                'n_neighbors':n_neighbors_values,\n",
    "                'metric':metric_values\n",
    "            },\n",
    "            X = scaled_numeric_df.values,\n",
    "            Y = target_variable.values\n",
    "        )\n",
    "        \n",
    "        \n",
    "launch_grid_search_knn()"
   ]
  },
  {
   "cell_type": "code",
   "execution_count": 134,
   "metadata": {},
   "outputs": [
    {
     "name": "stdout",
     "output_type": "stream",
     "text": [
      "Best cv score for DecisionTree is 0.78 (when 'max_depth' == 7, 'criterion' == entropy)\n"
     ]
    }
   ],
   "source": [
    "def launch_grid_search_decision_tree():\n",
    "    with warnings.catch_warnings(record=True):\n",
    "        launch_multidim_grid_search(\n",
    "            method_name='DecisionTree',\n",
    "            estimator=DecisionTreeClassifier(),\n",
    "            param_grid={\n",
    "                'max_depth':[x for x in range(1, 20)],\n",
    "                'criterion':['gini', 'entropy']\n",
    "            },\n",
    "            X = scaled_numeric_df.values,\n",
    "            Y = target_variable.values\n",
    "        )\n",
    "        \n",
    "        \n",
    "launch_grid_search_decision_tree()"
   ]
  },
  {
   "cell_type": "code",
   "execution_count": 135,
   "metadata": {},
   "outputs": [
    {
     "name": "stdout",
     "output_type": "stream",
     "text": [
      "Best cv score for RandomForest is 0.80 (when 'max_features' == 9, 'criterion' == entropy)\n"
     ]
    }
   ],
   "source": [
    "def launch_grid_search_random_forest():\n",
    "    # Known from the previous task    \n",
    "    best_n_estimators=75\n",
    "    total_feature_amount=len(scaled_numeric_df.columns)\n",
    "    with warnings.catch_warnings(record=True):\n",
    "        launch_multidim_grid_search(\n",
    "            method_name='RandomForest',\n",
    "            estimator=RandomForestClassifier(n_estimators=best_n_estimators),\n",
    "            param_grid={\n",
    "                'max_features':[x for x in range(1,total_feature_amount+1)],\n",
    "                'criterion':['gini', 'entropy']\n",
    "            },\n",
    "            X = scaled_numeric_df.values,\n",
    "            Y = target_variable.values\n",
    "        )\n",
    "        \n",
    "        \n",
    "launch_grid_search_random_forest()"
   ]
  },
  {
   "cell_type": "code",
   "execution_count": 136,
   "metadata": {},
   "outputs": [
    {
     "name": "stdout",
     "output_type": "stream",
     "text": [
      "Best cv score for SGD is 0.60 (when 'loss' == log, 'penalty' == elasticnet)\n"
     ]
    }
   ],
   "source": [
    "def launch_grid_search_sgd():\n",
    "    with warnings.catch_warnings(record=True):\n",
    "        launch_multidim_grid_search(\n",
    "            method_name='SGD',\n",
    "            estimator=SGDClassifier(),\n",
    "            param_grid={\n",
    "                'loss':loss_values,\n",
    "                'penalty':['none', 'l2', 'l1', 'elasticnet']\n",
    "            },\n",
    "            X = scaled_numeric_df.values,\n",
    "            Y = target_variable.values\n",
    "        )\n",
    "        \n",
    "        \n",
    "launch_grid_search_sgd() "
   ]
  },
  {
   "cell_type": "markdown",
   "metadata": {},
   "source": [
    "# Добавление категориальных признаков в модели"
   ]
  },
  {
   "cell_type": "code",
   "execution_count": 137,
   "metadata": {},
   "outputs": [
    {
     "data": {
      "text/html": [
       "<div>\n",
       "<style scoped>\n",
       "    .dataframe tbody tr th:only-of-type {\n",
       "        vertical-align: middle;\n",
       "    }\n",
       "\n",
       "    .dataframe tbody tr th {\n",
       "        vertical-align: top;\n",
       "    }\n",
       "\n",
       "    .dataframe thead th {\n",
       "        text-align: right;\n",
       "    }\n",
       "</style>\n",
       "<table border=\"1\" class=\"dataframe\">\n",
       "  <thead>\n",
       "    <tr style=\"text-align: right;\">\n",
       "      <th></th>\n",
       "      <th>Seniority</th>\n",
       "      <th>Home</th>\n",
       "      <th>Time</th>\n",
       "      <th>Age</th>\n",
       "      <th>Marital</th>\n",
       "      <th>Records</th>\n",
       "      <th>Job</th>\n",
       "      <th>Expenses</th>\n",
       "      <th>Income</th>\n",
       "      <th>Assets</th>\n",
       "      <th>Debt</th>\n",
       "      <th>Amount</th>\n",
       "      <th>Price</th>\n",
       "    </tr>\n",
       "  </thead>\n",
       "  <tbody>\n",
       "    <tr>\n",
       "      <th>0</th>\n",
       "      <td>9</td>\n",
       "      <td>1</td>\n",
       "      <td>60</td>\n",
       "      <td>30</td>\n",
       "      <td>2</td>\n",
       "      <td>1</td>\n",
       "      <td>3</td>\n",
       "      <td>73</td>\n",
       "      <td>129</td>\n",
       "      <td>0</td>\n",
       "      <td>0</td>\n",
       "      <td>800</td>\n",
       "      <td>846</td>\n",
       "    </tr>\n",
       "    <tr>\n",
       "      <th>1</th>\n",
       "      <td>17</td>\n",
       "      <td>1</td>\n",
       "      <td>60</td>\n",
       "      <td>58</td>\n",
       "      <td>3</td>\n",
       "      <td>1</td>\n",
       "      <td>1</td>\n",
       "      <td>48</td>\n",
       "      <td>131</td>\n",
       "      <td>0</td>\n",
       "      <td>0</td>\n",
       "      <td>1000</td>\n",
       "      <td>1658</td>\n",
       "    </tr>\n",
       "    <tr>\n",
       "      <th>2</th>\n",
       "      <td>10</td>\n",
       "      <td>2</td>\n",
       "      <td>36</td>\n",
       "      <td>46</td>\n",
       "      <td>2</td>\n",
       "      <td>2</td>\n",
       "      <td>3</td>\n",
       "      <td>90</td>\n",
       "      <td>200</td>\n",
       "      <td>3000</td>\n",
       "      <td>0</td>\n",
       "      <td>2000</td>\n",
       "      <td>2985</td>\n",
       "    </tr>\n",
       "    <tr>\n",
       "      <th>3</th>\n",
       "      <td>0</td>\n",
       "      <td>1</td>\n",
       "      <td>60</td>\n",
       "      <td>24</td>\n",
       "      <td>1</td>\n",
       "      <td>1</td>\n",
       "      <td>1</td>\n",
       "      <td>63</td>\n",
       "      <td>182</td>\n",
       "      <td>2500</td>\n",
       "      <td>0</td>\n",
       "      <td>900</td>\n",
       "      <td>1325</td>\n",
       "    </tr>\n",
       "    <tr>\n",
       "      <th>4</th>\n",
       "      <td>0</td>\n",
       "      <td>1</td>\n",
       "      <td>36</td>\n",
       "      <td>26</td>\n",
       "      <td>1</td>\n",
       "      <td>1</td>\n",
       "      <td>1</td>\n",
       "      <td>46</td>\n",
       "      <td>107</td>\n",
       "      <td>0</td>\n",
       "      <td>0</td>\n",
       "      <td>310</td>\n",
       "      <td>910</td>\n",
       "    </tr>\n",
       "  </tbody>\n",
       "</table>\n",
       "</div>"
      ],
      "text/plain": [
       "   Seniority  Home  Time  Age  Marital  Records  Job  Expenses  Income  \\\n",
       "0          9     1    60   30        2        1    3        73     129   \n",
       "1         17     1    60   58        3        1    1        48     131   \n",
       "2         10     2    36   46        2        2    3        90     200   \n",
       "3          0     1    60   24        1        1    1        63     182   \n",
       "4          0     1    36   26        1        1    1        46     107   \n",
       "\n",
       "   Assets  Debt  Amount  Price  \n",
       "0       0     0     800    846  \n",
       "1       0     0    1000   1658  \n",
       "2    3000     0    2000   2985  \n",
       "3    2500     0     900   1325  \n",
       "4       0     0     310    910  "
      ]
     },
     "execution_count": 137,
     "metadata": {},
     "output_type": "execute_result"
    }
   ],
   "source": [
    "original_df.head()"
   ]
  },
  {
   "cell_type": "code",
   "execution_count": 20,
   "metadata": {},
   "outputs": [],
   "source": [
    "df = original_df"
   ]
  },
  {
   "cell_type": "code",
   "execution_count": 21,
   "metadata": {},
   "outputs": [
    {
     "data": {
      "text/html": [
       "<div>\n",
       "<style scoped>\n",
       "    .dataframe tbody tr th:only-of-type {\n",
       "        vertical-align: middle;\n",
       "    }\n",
       "\n",
       "    .dataframe tbody tr th {\n",
       "        vertical-align: top;\n",
       "    }\n",
       "\n",
       "    .dataframe thead th {\n",
       "        text-align: right;\n",
       "    }\n",
       "</style>\n",
       "<table border=\"1\" class=\"dataframe\">\n",
       "  <thead>\n",
       "    <tr style=\"text-align: right;\">\n",
       "      <th></th>\n",
       "      <th>Marital</th>\n",
       "      <th>Job</th>\n",
       "    </tr>\n",
       "  </thead>\n",
       "  <tbody>\n",
       "    <tr>\n",
       "      <th>0</th>\n",
       "      <td>2</td>\n",
       "      <td>3</td>\n",
       "    </tr>\n",
       "    <tr>\n",
       "      <th>1</th>\n",
       "      <td>3</td>\n",
       "      <td>1</td>\n",
       "    </tr>\n",
       "    <tr>\n",
       "      <th>2</th>\n",
       "      <td>2</td>\n",
       "      <td>3</td>\n",
       "    </tr>\n",
       "    <tr>\n",
       "      <th>3</th>\n",
       "      <td>1</td>\n",
       "      <td>1</td>\n",
       "    </tr>\n",
       "    <tr>\n",
       "      <th>4</th>\n",
       "      <td>1</td>\n",
       "      <td>1</td>\n",
       "    </tr>\n",
       "  </tbody>\n",
       "</table>\n",
       "</div>"
      ],
      "text/plain": [
       "   Marital  Job\n",
       "0        2    3\n",
       "1        3    1\n",
       "2        2    3\n",
       "3        1    1\n",
       "4        1    1"
      ]
     },
     "execution_count": 21,
     "metadata": {},
     "output_type": "execute_result"
    }
   ],
   "source": [
    "categorial_feature_names=[\n",
    "    'Marital',\n",
    "    'Job'\n",
    "]\n",
    "categorical_df = df[categorial_feature_names]\n",
    "categorical_df.head()\n"
   ]
  },
  {
   "cell_type": "code",
   "execution_count": 22,
   "metadata": {},
   "outputs": [],
   "source": [
    "from sklearn.preprocessing import OneHotEncoder"
   ]
  },
  {
   "cell_type": "code",
   "execution_count": 23,
   "metadata": {},
   "outputs": [
    {
     "name": "stderr",
     "output_type": "stream",
     "text": [
      "C:\\Users\\Dmitry_Nikiforov\\Anaconda3\\lib\\site-packages\\sklearn\\preprocessing\\_encoders.py:368: FutureWarning: The handling of integer data will change in version 0.22. Currently, the categories are determined based on the range [0, max(values)], while in the future they will be determined based on the unique values.\n",
      "If you want the future behaviour and silence this warning, you can specify \"categories='auto'\".\n",
      "In case you used a LabelEncoder before this OneHotEncoder to convert the categories to integers, then you can now use the OneHotEncoder directly.\n",
      "  warnings.warn(msg, FutureWarning)\n"
     ]
    },
    {
     "data": {
      "text/html": [
       "<div>\n",
       "<style scoped>\n",
       "    .dataframe tbody tr th:only-of-type {\n",
       "        vertical-align: middle;\n",
       "    }\n",
       "\n",
       "    .dataframe tbody tr th {\n",
       "        vertical-align: top;\n",
       "    }\n",
       "\n",
       "    .dataframe thead th {\n",
       "        text-align: right;\n",
       "    }\n",
       "</style>\n",
       "<table border=\"1\" class=\"dataframe\">\n",
       "  <thead>\n",
       "    <tr style=\"text-align: right;\">\n",
       "      <th></th>\n",
       "      <th>x0_0.0</th>\n",
       "      <th>x0_1.0</th>\n",
       "      <th>x0_2.0</th>\n",
       "      <th>x0_3.0</th>\n",
       "      <th>x0_4.0</th>\n",
       "      <th>x0_5.0</th>\n",
       "      <th>x1_1.0</th>\n",
       "      <th>x1_2.0</th>\n",
       "      <th>x1_3.0</th>\n",
       "      <th>x1_4.0</th>\n",
       "    </tr>\n",
       "  </thead>\n",
       "  <tbody>\n",
       "    <tr>\n",
       "      <th>0</th>\n",
       "      <td>0.0</td>\n",
       "      <td>0.0</td>\n",
       "      <td>1.0</td>\n",
       "      <td>0.0</td>\n",
       "      <td>0.0</td>\n",
       "      <td>0.0</td>\n",
       "      <td>0.0</td>\n",
       "      <td>0.0</td>\n",
       "      <td>1.0</td>\n",
       "      <td>0.0</td>\n",
       "    </tr>\n",
       "    <tr>\n",
       "      <th>1</th>\n",
       "      <td>0.0</td>\n",
       "      <td>0.0</td>\n",
       "      <td>0.0</td>\n",
       "      <td>1.0</td>\n",
       "      <td>0.0</td>\n",
       "      <td>0.0</td>\n",
       "      <td>1.0</td>\n",
       "      <td>0.0</td>\n",
       "      <td>0.0</td>\n",
       "      <td>0.0</td>\n",
       "    </tr>\n",
       "    <tr>\n",
       "      <th>2</th>\n",
       "      <td>0.0</td>\n",
       "      <td>0.0</td>\n",
       "      <td>1.0</td>\n",
       "      <td>0.0</td>\n",
       "      <td>0.0</td>\n",
       "      <td>0.0</td>\n",
       "      <td>0.0</td>\n",
       "      <td>0.0</td>\n",
       "      <td>1.0</td>\n",
       "      <td>0.0</td>\n",
       "    </tr>\n",
       "    <tr>\n",
       "      <th>3</th>\n",
       "      <td>0.0</td>\n",
       "      <td>1.0</td>\n",
       "      <td>0.0</td>\n",
       "      <td>0.0</td>\n",
       "      <td>0.0</td>\n",
       "      <td>0.0</td>\n",
       "      <td>1.0</td>\n",
       "      <td>0.0</td>\n",
       "      <td>0.0</td>\n",
       "      <td>0.0</td>\n",
       "    </tr>\n",
       "    <tr>\n",
       "      <th>4</th>\n",
       "      <td>0.0</td>\n",
       "      <td>1.0</td>\n",
       "      <td>0.0</td>\n",
       "      <td>0.0</td>\n",
       "      <td>0.0</td>\n",
       "      <td>0.0</td>\n",
       "      <td>1.0</td>\n",
       "      <td>0.0</td>\n",
       "      <td>0.0</td>\n",
       "      <td>0.0</td>\n",
       "    </tr>\n",
       "  </tbody>\n",
       "</table>\n",
       "</div>"
      ],
      "text/plain": [
       "   x0_0.0  x0_1.0  x0_2.0  x0_3.0  x0_4.0  x0_5.0  x1_1.0  x1_2.0  x1_3.0  \\\n",
       "0     0.0     0.0     1.0     0.0     0.0     0.0     0.0     0.0     1.0   \n",
       "1     0.0     0.0     0.0     1.0     0.0     0.0     1.0     0.0     0.0   \n",
       "2     0.0     0.0     1.0     0.0     0.0     0.0     0.0     0.0     1.0   \n",
       "3     0.0     1.0     0.0     0.0     0.0     0.0     1.0     0.0     0.0   \n",
       "4     0.0     1.0     0.0     0.0     0.0     0.0     1.0     0.0     0.0   \n",
       "\n",
       "   x1_4.0  \n",
       "0     0.0  \n",
       "1     0.0  \n",
       "2     0.0  \n",
       "3     0.0  \n",
       "4     0.0  "
      ]
     },
     "execution_count": 23,
     "metadata": {},
     "output_type": "execute_result"
    }
   ],
   "source": [
    "enc = OneHotEncoder(sparse=False)\n",
    "encoded_array = enc.fit_transform(categorical_df)\n",
    "encoded_df = pd.DataFrame(encoded_array)\n",
    "encoded_df.columns = enc.get_feature_names()\n",
    "encoded_df.head()"
   ]
  },
  {
   "cell_type": "code",
   "execution_count": 24,
   "metadata": {},
   "outputs": [
    {
     "data": {
      "text/html": [
       "<div>\n",
       "<style scoped>\n",
       "    .dataframe tbody tr th:only-of-type {\n",
       "        vertical-align: middle;\n",
       "    }\n",
       "\n",
       "    .dataframe tbody tr th {\n",
       "        vertical-align: top;\n",
       "    }\n",
       "\n",
       "    .dataframe thead th {\n",
       "        text-align: right;\n",
       "    }\n",
       "</style>\n",
       "<table border=\"1\" class=\"dataframe\">\n",
       "  <thead>\n",
       "    <tr style=\"text-align: right;\">\n",
       "      <th></th>\n",
       "      <th>Seniority</th>\n",
       "      <th>Time</th>\n",
       "      <th>Age</th>\n",
       "      <th>Records</th>\n",
       "      <th>Expenses</th>\n",
       "      <th>Income</th>\n",
       "      <th>Assets</th>\n",
       "      <th>Debt</th>\n",
       "      <th>Amount</th>\n",
       "      <th>Price</th>\n",
       "      <th>x0_0.0</th>\n",
       "      <th>x0_1.0</th>\n",
       "      <th>x0_2.0</th>\n",
       "      <th>x0_3.0</th>\n",
       "      <th>x0_4.0</th>\n",
       "      <th>x0_5.0</th>\n",
       "      <th>x1_1.0</th>\n",
       "      <th>x1_2.0</th>\n",
       "      <th>x1_3.0</th>\n",
       "      <th>x1_4.0</th>\n",
       "    </tr>\n",
       "  </thead>\n",
       "  <tbody>\n",
       "    <tr>\n",
       "      <th>0</th>\n",
       "      <td>0.104111</td>\n",
       "      <td>0.911650</td>\n",
       "      <td>-0.630474</td>\n",
       "      <td>-0.443089</td>\n",
       "      <td>0.887712</td>\n",
       "      <td>-0.157684</td>\n",
       "      <td>-0.541940</td>\n",
       "      <td>-0.313101</td>\n",
       "      <td>-0.501621</td>\n",
       "      <td>-0.997403</td>\n",
       "      <td>0.0</td>\n",
       "      <td>0.0</td>\n",
       "      <td>1.0</td>\n",
       "      <td>0.0</td>\n",
       "      <td>0.0</td>\n",
       "      <td>0.0</td>\n",
       "      <td>0.0</td>\n",
       "      <td>0.0</td>\n",
       "      <td>1.0</td>\n",
       "      <td>0.0</td>\n",
       "    </tr>\n",
       "    <tr>\n",
       "      <th>1</th>\n",
       "      <td>1.085698</td>\n",
       "      <td>0.911650</td>\n",
       "      <td>1.910470</td>\n",
       "      <td>-0.443089</td>\n",
       "      <td>-0.404650</td>\n",
       "      <td>-0.132884</td>\n",
       "      <td>-0.541940</td>\n",
       "      <td>-0.313101</td>\n",
       "      <td>-0.065864</td>\n",
       "      <td>0.344176</td>\n",
       "      <td>0.0</td>\n",
       "      <td>0.0</td>\n",
       "      <td>0.0</td>\n",
       "      <td>1.0</td>\n",
       "      <td>0.0</td>\n",
       "      <td>0.0</td>\n",
       "      <td>1.0</td>\n",
       "      <td>0.0</td>\n",
       "      <td>0.0</td>\n",
       "      <td>0.0</td>\n",
       "    </tr>\n",
       "    <tr>\n",
       "      <th>2</th>\n",
       "      <td>0.226810</td>\n",
       "      <td>-0.738839</td>\n",
       "      <td>0.821494</td>\n",
       "      <td>2.256882</td>\n",
       "      <td>1.766519</td>\n",
       "      <td>0.722725</td>\n",
       "      <td>-0.220675</td>\n",
       "      <td>-0.313101</td>\n",
       "      <td>2.112924</td>\n",
       "      <td>2.536635</td>\n",
       "      <td>0.0</td>\n",
       "      <td>0.0</td>\n",
       "      <td>1.0</td>\n",
       "      <td>0.0</td>\n",
       "      <td>0.0</td>\n",
       "      <td>0.0</td>\n",
       "      <td>0.0</td>\n",
       "      <td>0.0</td>\n",
       "      <td>1.0</td>\n",
       "      <td>0.0</td>\n",
       "    </tr>\n",
       "    <tr>\n",
       "      <th>3</th>\n",
       "      <td>-1.000174</td>\n",
       "      <td>0.911650</td>\n",
       "      <td>-1.174962</td>\n",
       "      <td>-0.443089</td>\n",
       "      <td>0.370767</td>\n",
       "      <td>0.499523</td>\n",
       "      <td>-0.274219</td>\n",
       "      <td>-0.313101</td>\n",
       "      <td>-0.283742</td>\n",
       "      <td>-0.206003</td>\n",
       "      <td>0.0</td>\n",
       "      <td>1.0</td>\n",
       "      <td>0.0</td>\n",
       "      <td>0.0</td>\n",
       "      <td>0.0</td>\n",
       "      <td>0.0</td>\n",
       "      <td>1.0</td>\n",
       "      <td>0.0</td>\n",
       "      <td>0.0</td>\n",
       "      <td>0.0</td>\n",
       "    </tr>\n",
       "    <tr>\n",
       "      <th>4</th>\n",
       "      <td>-1.000174</td>\n",
       "      <td>-0.738839</td>\n",
       "      <td>-0.993466</td>\n",
       "      <td>-0.443089</td>\n",
       "      <td>-0.508039</td>\n",
       "      <td>-0.430487</td>\n",
       "      <td>-0.541940</td>\n",
       "      <td>-0.313101</td>\n",
       "      <td>-1.569227</td>\n",
       "      <td>-0.891663</td>\n",
       "      <td>0.0</td>\n",
       "      <td>1.0</td>\n",
       "      <td>0.0</td>\n",
       "      <td>0.0</td>\n",
       "      <td>0.0</td>\n",
       "      <td>0.0</td>\n",
       "      <td>1.0</td>\n",
       "      <td>0.0</td>\n",
       "      <td>0.0</td>\n",
       "      <td>0.0</td>\n",
       "    </tr>\n",
       "  </tbody>\n",
       "</table>\n",
       "</div>"
      ],
      "text/plain": [
       "   Seniority      Time       Age   Records  Expenses    Income    Assets  \\\n",
       "0   0.104111  0.911650 -0.630474 -0.443089  0.887712 -0.157684 -0.541940   \n",
       "1   1.085698  0.911650  1.910470 -0.443089 -0.404650 -0.132884 -0.541940   \n",
       "2   0.226810 -0.738839  0.821494  2.256882  1.766519  0.722725 -0.220675   \n",
       "3  -1.000174  0.911650 -1.174962 -0.443089  0.370767  0.499523 -0.274219   \n",
       "4  -1.000174 -0.738839 -0.993466 -0.443089 -0.508039 -0.430487 -0.541940   \n",
       "\n",
       "       Debt    Amount     Price  x0_0.0  x0_1.0  x0_2.0  x0_3.0  x0_4.0  \\\n",
       "0 -0.313101 -0.501621 -0.997403     0.0     0.0     1.0     0.0     0.0   \n",
       "1 -0.313101 -0.065864  0.344176     0.0     0.0     0.0     1.0     0.0   \n",
       "2 -0.313101  2.112924  2.536635     0.0     0.0     1.0     0.0     0.0   \n",
       "3 -0.313101 -0.283742 -0.206003     0.0     1.0     0.0     0.0     0.0   \n",
       "4 -0.313101 -1.569227 -0.891663     0.0     1.0     0.0     0.0     0.0   \n",
       "\n",
       "   x0_5.0  x1_1.0  x1_2.0  x1_3.0  x1_4.0  \n",
       "0     0.0     0.0     0.0     1.0     0.0  \n",
       "1     0.0     1.0     0.0     0.0     0.0  \n",
       "2     0.0     0.0     0.0     1.0     0.0  \n",
       "3     0.0     1.0     0.0     0.0     0.0  \n",
       "4     0.0     1.0     0.0     0.0     0.0  "
      ]
     },
     "execution_count": 24,
     "metadata": {},
     "output_type": "execute_result"
    }
   ],
   "source": [
    "merged_df = pd.merge(scaled_numeric_df, encoded_df, how='left', left_index=True, right_index=True)\n",
    "merged_df.head()"
   ]
  },
  {
   "cell_type": "code",
   "execution_count": 34,
   "metadata": {},
   "outputs": [],
   "source": [
    "from sklearn.model_selection import cross_val_score\n",
    "\n",
    "def launch_cross_val_score_on_merged_df(name, estimator):\n",
    "    with warnings.catch_warnings(record=True):\n",
    "        scores = cross_val_score(\n",
    "            estimator = estimator,\n",
    "            X = merged_df.values,\n",
    "            y = target_variable.values,\n",
    "            scoring = make_scorer(accuracy_score),\n",
    "            cv = 5\n",
    "        )\n",
    "    mean_score = scores.mean()\n",
    "    print(\"Оценка на кросс-валидации для '{}': {}\".format(name, mean_score))"
   ]
  },
  {
   "cell_type": "code",
   "execution_count": 40,
   "metadata": {},
   "outputs": [
    {
     "data": {
      "text/plain": [
       "RangeIndex(start=0, stop=4040, step=1)"
      ]
     },
     "execution_count": 40,
     "metadata": {},
     "output_type": "execute_result"
    }
   ],
   "source": [
    "merged_df.index"
   ]
  },
  {
   "cell_type": "code",
   "execution_count": 33,
   "metadata": {},
   "outputs": [
    {
     "name": "stdout",
     "output_type": "stream",
     "text": [
      "Оценка на кросс-валидации для 'DecisionTree': 0.7774946649087058\n"
     ]
    }
   ],
   "source": [
    "launch_cross_val_score_on_merged_df(\n",
    "    name='DecisionTree',\n",
    "    estimator=DecisionTreeClassifier(max_depth = 8, criterion = 'entropy')\n",
    ") "
   ]
  },
  {
   "cell_type": "code",
   "execution_count": 27,
   "metadata": {},
   "outputs": [
    {
     "name": "stdout",
     "output_type": "stream",
     "text": [
      "Оценка на кросс-валидации для 'KNN': 0.6732879930223852\n"
     ]
    }
   ],
   "source": [
    "launch_cross_val_score_on_merged_df(\n",
    "    name='KNN',\n",
    "    estimator=KNeighborsClassifier(n_neighbors = 41, metric = 'manhattan')\n",
    ")"
   ]
  },
  {
   "cell_type": "code",
   "execution_count": 28,
   "metadata": {},
   "outputs": [
    {
     "name": "stdout",
     "output_type": "stream",
     "text": [
      "Оценка на кросс-валидации для 'RandomForest': 0.7747780748909412\n"
     ]
    }
   ],
   "source": [
    "launch_cross_val_score_on_merged_df(\n",
    "    name='RandomForest',\n",
    "    estimator=RandomForestClassifier(n_estimators=75, max_features = 6, criterion = 'entropy')\n",
    ")"
   ]
  },
  {
   "cell_type": "code",
   "execution_count": 30,
   "metadata": {},
   "outputs": [
    {
     "name": "stdout",
     "output_type": "stream",
     "text": [
      "Оценка на кросс-валидации для 'SGD': 0.6010435255121716\n"
     ]
    }
   ],
   "source": [
    "launch_cross_val_score_on_merged_df(\n",
    "    name='SGD',\n",
    "    estimator=SGDClassifier(loss='log', penalty='l1')\n",
    ")"
   ]
  },
  {
   "cell_type": "code",
   "execution_count": 31,
   "metadata": {},
   "outputs": [],
   "source": [
    "estimator=SGDClassifier(loss='log', penalty='l1')\n",
    "estimator.pr"
   ]
  }
 ],
 "metadata": {
  "kernelspec": {
   "display_name": "Python 3",
   "language": "python",
   "name": "python3"
  },
  "language_info": {
   "codemirror_mode": {
    "name": "ipython",
    "version": 3
   },
   "file_extension": ".py",
   "mimetype": "text/x-python",
   "name": "python",
   "nbconvert_exporter": "python",
   "pygments_lexer": "ipython3",
   "version": "3.7.1"
  }
 },
 "nbformat": 4,
 "nbformat_minor": 2
}
